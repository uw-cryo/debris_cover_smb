{
 "cells": [
  {
   "cell_type": "code",
   "execution_count": 1,
   "id": "1cd7dd9a-1358-4a4a-ab15-6583d6c9ec1d",
   "metadata": {},
   "outputs": [],
   "source": [
    "%load_ext autoreload\n",
    "%autoreload 2\n",
    "%config InlineBackend.figure_format='retina'\n",
    "%matplotlib inline"
   ]
  },
  {
   "cell_type": "code",
   "execution_count": 2,
   "id": "4535d731-0aed-4e1f-9eab-f6de83ad5529",
   "metadata": {},
   "outputs": [],
   "source": [
    "import numpy as np \n",
    "import contextily as ctx\n",
    "import geopandas as gpd\n",
    "import matplotlib.pyplot as plt\n",
    "from imview import pltlib\n",
    "import pandas as pd\n",
    "from pygeotools.lib import warplib,geolib,iolib,malib,filtlib,timelib\n",
    "import os,sys,glob,shutil\n",
    "from velocity_proc import glac_dyn, constants, velocity_filter, velocity_timeseries"
   ]
  },
  {
   "cell_type": "code",
   "execution_count": 4,
   "id": "58bc56e0-6501-4acf-b51e-b958585b30c6",
   "metadata": {},
   "outputs": [
    {
     "name": "stdout",
     "output_type": "stream",
     "text": [
      "/nobackupp11/sbhusha1/chapter2/lirung/202320218/20161106_combined_hs__20171222_combined_hs_mgm_disp_9spm_spm_ker15_corr_kernel9px_resmin_txm\n"
     ]
    }
   ],
   "source": [
    "%cd /nobackupp11/sbhusha1/chapter2/lirung/202320218/20161106_combined_hs__20171222_combined_hs_mgm_disp_9spm_spm_ker15_corr_kernel9px_resmin_txm"
   ]
  },
  {
   "cell_type": "code",
   "execution_count": 10,
   "id": "0c4de7c9-bc43-47cf-aa66-1c2c93c3c01e",
   "metadata": {},
   "outputs": [],
   "source": [
    "vx_orig_fn = '20161106_combined_hs__20171222_combined_hs_mgm_disp_9spm_spm_ker15_corr_kernel9px_resmin_txm_vx_skiprate_1_1.tif'\n",
    "vy_orig_fn = '20161106_combined_hs__20171222_combined_hs_mgm_disp_9spm_spm_ker15_corr_kernel9px_resmin_txm_vy_skiprate_1_1.tif'\n",
    "error_shp  = gpd.read_file('error_shp.geojson')\n",
    "vx_ds,vy_ds = [iolib.fn_getds(fn) for fn in [vx_orig_fn,vy_orig_fn]]\n",
    "vx_ma,vy_ma = [iolib.ds_getma(ds) for ds in [vx_ds,vy_ds]]\n",
    "extent = geolib.ds_extent(vx_ds)\n",
    "fig_extent = [extent[0],extent[2],extent[1],extent[3]]"
   ]
  },
  {
   "cell_type": "code",
   "execution_count": 11,
   "id": "493727f3-08ec-4f3d-baeb-83f8ba34cb07",
   "metadata": {},
   "outputs": [],
   "source": [
    "%matplotlib widget"
   ]
  },
  {
   "cell_type": "code",
   "execution_count": 12,
   "id": "145bc4ed-b76a-4ae7-9130-f06d0df356d8",
   "metadata": {},
   "outputs": [
    {
     "data": {
      "text/html": [
       "<div>\n",
       "<style scoped>\n",
       "    .dataframe tbody tr th:only-of-type {\n",
       "        vertical-align: middle;\n",
       "    }\n",
       "\n",
       "    .dataframe tbody tr th {\n",
       "        vertical-align: top;\n",
       "    }\n",
       "\n",
       "    .dataframe thead th {\n",
       "        text-align: right;\n",
       "    }\n",
       "</style>\n",
       "<table border=\"1\" class=\"dataframe\">\n",
       "  <thead>\n",
       "    <tr style=\"text-align: right;\">\n",
       "      <th></th>\n",
       "      <th>fid</th>\n",
       "      <th>geometry</th>\n",
       "    </tr>\n",
       "  </thead>\n",
       "  <tbody>\n",
       "    <tr>\n",
       "      <th>0</th>\n",
       "      <td>1</td>\n",
       "      <td>POLYGON ((358985.985 3123600.481, 358949.754 3...</td>\n",
       "    </tr>\n",
       "    <tr>\n",
       "      <th>1</th>\n",
       "      <td>2</td>\n",
       "      <td>POLYGON ((358226.150 3124645.128, 358214.073 3...</td>\n",
       "    </tr>\n",
       "    <tr>\n",
       "      <th>2</th>\n",
       "      <td>3</td>\n",
       "      <td>POLYGON ((358886.686 3122625.277, 358931.639 3...</td>\n",
       "    </tr>\n",
       "    <tr>\n",
       "      <th>3</th>\n",
       "      <td>4</td>\n",
       "      <td>POLYGON ((358839.721 3122354.219, 358833.682 3...</td>\n",
       "    </tr>\n",
       "  </tbody>\n",
       "</table>\n",
       "</div>"
      ],
      "text/plain": [
       "   fid                                           geometry\n",
       "0    1  POLYGON ((358985.985 3123600.481, 358949.754 3...\n",
       "1    2  POLYGON ((358226.150 3124645.128, 358214.073 3...\n",
       "2    3  POLYGON ((358886.686 3122625.277, 358931.639 3...\n",
       "3    4  POLYGON ((358839.721 3122354.219, 358833.682 3..."
      ]
     },
     "execution_count": 12,
     "metadata": {},
     "output_type": "execute_result"
    }
   ],
   "source": [
    "error_shp"
   ]
  },
  {
   "cell_type": "code",
   "execution_count": 18,
   "id": "b5e4bae5-5fb9-498a-8894-e2efdeac2aa8",
   "metadata": {},
   "outputs": [
    {
     "data": {
      "application/vnd.jupyter.widget-view+json": {
       "model_id": "a7500b1e82bb49608c5704359cf92b6e",
       "version_major": 2,
       "version_minor": 0
      },
      "text/plain": [
       "Canvas(toolbar=Toolbar(toolitems=[('Home', 'Reset original view', 'home', 'home'), ('Back', 'Back to previous …"
      ]
     },
     "metadata": {},
     "output_type": "display_data"
    },
    {
     "name": "stderr",
     "output_type": "stream",
     "text": [
      "/nobackupp16/swbuild3/sbhusha1/pip_git_sw/imview/imview/lib/pltlib.py:155: MatplotlibDeprecationWarning: You are modifying the state of a globally registered colormap. This has been deprecated since 3.3 and in 3.6, you will not be able to modify a registered colormap in-place. To remove this warning, you can make a copy of the colormap first. cmap = mpl.cm.get_cmap(\"RdYlBu_r\").copy()\n",
      "  cmap.set_bad('k', alpha=1)\n"
     ]
    },
    {
     "data": {
      "text/plain": [
       "(3121935.022988668, 3126166.6051699277)"
      ]
     },
     "execution_count": 18,
     "metadata": {},
     "output_type": "execute_result"
    }
   ],
   "source": [
    "f,ax = plt.subplots()\n",
    "vm_orig = np.ma.sqrt(vx_ma**2+vy_ma**2)\n",
    "pltlib.iv(vm_orig,ax=ax,cmap='RdYlBu_r',clim=(0,6),extent=fig_extent)\n",
    "error_shp.plot(ax=ax,facecolor='none',edgecolor='white',linewidth=2)\n",
    "xlim = (356814.64580645156, 359450.71339477727)\n",
    "ylim = (3121935.022988668, 3126166.6051699277)\n",
    "ax.set_xlim(xlim)\n",
    "ax.set_ylim(ylim)"
   ]
  },
  {
   "cell_type": "code",
   "execution_count": 17,
   "id": "2b249dce-9d34-4869-8955-1e7dd6ad5ac6",
   "metadata": {},
   "outputs": [
    {
     "data": {
      "text/plain": [
       "(3121935.022988668, 3126166.6051699277)"
      ]
     },
     "execution_count": 17,
     "metadata": {},
     "output_type": "execute_result"
    }
   ],
   "source": [
    "xlim = (356814.64580645156, 359450.71339477727)\n",
    "ylim = (3121935.022988668, 3126166.6051699277)\n",
    "ylim"
   ]
  },
  {
   "cell_type": "code",
   "execution_count": 20,
   "id": "cf443119-7670-4b51-93d8-9c0d684296b9",
   "metadata": {},
   "outputs": [
    {
     "data": {
      "application/vnd.jupyter.widget-view+json": {
       "model_id": "3fb580e5e9a04c73b74734890f2b8d97",
       "version_major": 2,
       "version_minor": 0
      },
      "text/plain": [
       "Canvas(toolbar=Toolbar(toolitems=[('Home', 'Reset original view', 'home', 'home'), ('Back', 'Back to previous …"
      ]
     },
     "metadata": {},
     "output_type": "display_data"
    },
    {
     "name": "stderr",
     "output_type": "stream",
     "text": [
      "/nobackupp16/swbuild3/sbhusha1/pip_git_sw/imview/imview/lib/pltlib.py:155: MatplotlibDeprecationWarning: You are modifying the state of a globally registered colormap. This has been deprecated since 3.3 and in 3.6, you will not be able to modify a registered colormap in-place. To remove this warning, you can make a copy of the colormap first. cmap = mpl.cm.get_cmap(\"RdYlBu_r\").copy()\n",
      "  cmap.set_bad('k', alpha=1)\n"
     ]
    },
    {
     "data": {
      "text/plain": [
       "(3121935.022988668, 3126166.6051699277)"
      ]
     },
     "execution_count": 20,
     "metadata": {},
     "output_type": "execute_result"
    }
   ],
   "source": [
    "f,ax = plt.subplots()\n",
    "vm_orig = np.ma.sqrt(vx_ma**2+vy_ma**2)\n",
    "pltlib.iv(velocity_timeseries.mask_by_shp(error_shp.geometry,vm_orig,vx_ds,invert=True),ax=ax,cmap='RdYlBu_r',clim=(0,6),extent=fig_extent)\n",
    "error_shp.plot(ax=ax,facecolor='none',edgecolor='white',linewidth=2)\n",
    "xlim = (356814.64580645156, 359450.71339477727)\n",
    "ylim = (3121935.022988668, 3126166.6051699277)\n",
    "ax.set_xlim(xlim)\n",
    "ax.set_ylim(ylim)"
   ]
  },
  {
   "cell_type": "code",
   "execution_count": 29,
   "id": "69ca4e94-1052-4682-ae18-5e5789def81f",
   "metadata": {},
   "outputs": [
    {
     "data": {
      "text/plain": [
       "<osgeo.gdal.Dataset; proxy of <Swig Object of type 'GDALDatasetShadow *' at 0x2aaca7ced690> >"
      ]
     },
     "execution_count": 29,
     "metadata": {},
     "output_type": "execute_result"
    }
   ],
   "source": [
    "vx_ds"
   ]
  },
  {
   "cell_type": "code",
   "execution_count": 30,
   "id": "5b57011c-f0f9-4f48-9200-49d860c3547f",
   "metadata": {},
   "outputs": [],
   "source": [
    "vx_masked = velocity_timeseries.mask_by_shp(error_shp.geometry,vx_ma,vx_ds,invert=True)\n",
    "vy_masked = velocity_timeseries.mask_by_shp(error_shp.geometry,vy_ma,vy_ds,invert=True)\n",
    "vx_mask_out = os.path.splitext(vx_orig_fn)[0]+'_masked.tif'\n",
    "vy_mask_out = os.path.splitext(vy_orig_fn)[0]+'_masked.tif'\n",
    "iolib.writeGTiff(vx_masked,vx_mask_out,src_ds=vx_ds)\n",
    "iolib.writeGTiff(vy_masked,vy_mask_out,src_ds=vy_ds)"
   ]
  },
  {
   "cell_type": "code",
   "execution_count": 33,
   "id": "12553cac-b592-4ace-932f-08fc5ff81c72",
   "metadata": {},
   "outputs": [
    {
     "name": "stdout",
     "output_type": "stream",
     "text": [
      "writing filled array at 20161106_combined_hs__20171222_combined_hs_mgm_disp_9spm_spm_ker15_corr_kernel9px_resmin_txm_vx_skiprate_1_1_masked_cubic_limit_100px.tif\n",
      "writing filled array at 20161106_combined_hs__20171222_combined_hs_mgm_disp_9spm_spm_ker15_corr_kernel9px_resmin_txm_vy_skiprate_1_1_masked_cubic_limit_100px.tif\n"
     ]
    }
   ],
   "source": [
    "vx_inpaint = velocity_filter.fillgap_wrapper(vx_mask_out,method='cubic',erode_island=False,return_ma=True)\n",
    "vy_inpaint = velocity_filter.fillgap_wrapper(vy_mask_out,method='cubic',erode_island=False,return_ma=True)"
   ]
  },
  {
   "cell_type": "code",
   "execution_count": 32,
   "id": "147cbc6d-92c4-408b-aed6-1ce277e13052",
   "metadata": {},
   "outputs": [
    {
     "data": {
      "application/vnd.jupyter.widget-view+json": {
       "model_id": "6d7d4e9a96b64b78a85e3f1726e8584b",
       "version_major": 2,
       "version_minor": 0
      },
      "text/plain": [
       "Canvas(toolbar=Toolbar(toolitems=[('Home', 'Reset original view', 'home', 'home'), ('Back', 'Back to previous …"
      ]
     },
     "metadata": {},
     "output_type": "display_data"
    },
    {
     "name": "stderr",
     "output_type": "stream",
     "text": [
      "/nobackupp16/swbuild3/sbhusha1/pip_git_sw/imview/imview/lib/pltlib.py:155: MatplotlibDeprecationWarning: You are modifying the state of a globally registered colormap. This has been deprecated since 3.3 and in 3.6, you will not be able to modify a registered colormap in-place. To remove this warning, you can make a copy of the colormap first. cmap = mpl.cm.get_cmap(\"RdYlBu_r\").copy()\n",
      "  cmap.set_bad('k', alpha=1)\n"
     ]
    },
    {
     "data": {
      "text/plain": [
       "(3121935.022988668, 3126166.6051699277)"
      ]
     },
     "execution_count": 32,
     "metadata": {},
     "output_type": "execute_result"
    }
   ],
   "source": [
    "f,ax = plt.subplots()\n",
    "vm_inpaint = np.ma.sqrt(vx_inpaint**2+vy_inpaint**2)\n",
    "pltlib.iv(vm_inpaint,ax=ax,cmap='RdYlBu_r',clim=(0,6),extent=fig_extent)\n",
    "error_shp.plot(ax=ax,facecolor='none',edgecolor='white',linewidth=2)\n",
    "xlim = (356814.64580645156, 359450.71339477727)\n",
    "ylim = (3121935.022988668, 3126166.6051699277)\n",
    "ax.set_xlim(xlim)\n",
    "ax.set_ylim(ylim)"
   ]
  },
  {
   "cell_type": "code",
   "execution_count": 34,
   "id": "c5750c8e-0598-40e5-b8fa-e897c2416d99",
   "metadata": {},
   "outputs": [
    {
     "data": {
      "application/vnd.jupyter.widget-view+json": {
       "model_id": "d9995332e9924f3bbffd614370b1fa0d",
       "version_major": 2,
       "version_minor": 0
      },
      "text/plain": [
       "Canvas(toolbar=Toolbar(toolitems=[('Home', 'Reset original view', 'home', 'home'), ('Back', 'Back to previous …"
      ]
     },
     "metadata": {},
     "output_type": "display_data"
    },
    {
     "name": "stderr",
     "output_type": "stream",
     "text": [
      "/nobackupp16/swbuild3/sbhusha1/pip_git_sw/imview/imview/lib/pltlib.py:155: MatplotlibDeprecationWarning: You are modifying the state of a globally registered colormap. This has been deprecated since 3.3 and in 3.6, you will not be able to modify a registered colormap in-place. To remove this warning, you can make a copy of the colormap first. cmap = mpl.cm.get_cmap(\"RdYlBu_r\").copy()\n",
      "  cmap.set_bad('k', alpha=1)\n"
     ]
    },
    {
     "data": {
      "text/plain": [
       "(3121935.022988668, 3126166.6051699277)"
      ]
     },
     "execution_count": 34,
     "metadata": {},
     "output_type": "execute_result"
    }
   ],
   "source": [
    "f,ax = plt.subplots()\n",
    "vm_inpaint = np.ma.sqrt(vx_inpaint**2+vy_inpaint**2)\n",
    "pltlib.iv(vm_inpaint,ax=ax,cmap='RdYlBu_r',clim=(0,6),extent=fig_extent)\n",
    "error_shp.plot(ax=ax,facecolor='none',edgecolor='white',linewidth=2)\n",
    "xlim = (356814.64580645156, 359450.71339477727)\n",
    "ylim = (3121935.022988668, 3126166.6051699277)\n",
    "ax.set_xlim(xlim)\n",
    "ax.set_ylim(ylim)"
   ]
  },
  {
   "cell_type": "code",
   "execution_count": 37,
   "id": "d66ba730-2d14-48f5-8c88-44079f31215c",
   "metadata": {},
   "outputs": [
    {
     "data": {
      "application/vnd.jupyter.widget-view+json": {
       "model_id": "dafc99f777804995a29e524badf9de02",
       "version_major": 2,
       "version_minor": 0
      },
      "text/plain": [
       "Canvas(toolbar=Toolbar(toolitems=[('Home', 'Reset original view', 'home', 'home'), ('Back', 'Back to previous …"
      ]
     },
     "metadata": {},
     "output_type": "display_data"
    },
    {
     "name": "stdout",
     "output_type": "stream",
     "text": [
      "Applying gaussian smoothing filter with size 51 and sigma 8.333 (sum 0.996)\n"
     ]
    },
    {
     "name": "stderr",
     "output_type": "stream",
     "text": [
      "WARNING: nan_treatment='interpolate', however, NaN values detected post convolution. A contiguous region of NaN values, larger than the kernel size, are present in the input array. Increase the kernel size to avoid this. [astropy.convolution.convolve]\n",
      "WARNING:astropy:nan_treatment='interpolate', however, NaN values detected post convolution. A contiguous region of NaN values, larger than the kernel size, are present in the input array. Increase the kernel size to avoid this.\n",
      "/nobackupp16/swbuild3/sbhusha1/pip_git_sw/imview/imview/lib/pltlib.py:155: MatplotlibDeprecationWarning: You are modifying the state of a globally registered colormap. This has been deprecated since 3.3 and in 3.6, you will not be able to modify a registered colormap in-place. To remove this warning, you can make a copy of the colormap first. cmap = mpl.cm.get_cmap(\"RdYlBu_r\").copy()\n",
      "  cmap.set_bad('k', alpha=1)\n"
     ]
    },
    {
     "data": {
      "text/plain": [
       "(3121935.022988668, 3126166.6051699277)"
      ]
     },
     "execution_count": 37,
     "metadata": {},
     "output_type": "execute_result"
    }
   ],
   "source": [
    "f,ax = plt.subplots()\n",
    "vm_inpaint = filtlib.gaussfill(np.ma.sqrt(vx_masked**2+vy_masked**2),size=51)\n",
    "pltlib.iv(vm_inpaint,ax=ax,cmap='RdYlBu_r',clim=(0,6),extent=fig_extent)\n",
    "error_shp.plot(ax=ax,facecolor='none',edgecolor='white',linewidth=2)\n",
    "xlim = (356814.64580645156, 359450.71339477727)\n",
    "ylim = (3121935.022988668, 3126166.6051699277)\n",
    "ax.set_xlim(xlim)\n",
    "ax.set_ylim(ylim)"
   ]
  },
  {
   "cell_type": "code",
   "execution_count": 38,
   "id": "cd661cde-65db-453d-a7f6-fc0fd826d295",
   "metadata": {},
   "outputs": [
    {
     "data": {
      "application/vnd.jupyter.widget-view+json": {
       "model_id": "488aabe1aa14421d8735605a89e2d7cc",
       "version_major": 2,
       "version_minor": 0
      },
      "text/plain": [
       "Canvas(toolbar=Toolbar(toolitems=[('Home', 'Reset original view', 'home', 'home'), ('Back', 'Back to previous …"
      ]
     },
     "metadata": {},
     "output_type": "display_data"
    },
    {
     "name": "stderr",
     "output_type": "stream",
     "text": [
      "/nobackupp16/swbuild3/sbhusha1/pip_git_sw/imview/imview/lib/pltlib.py:155: MatplotlibDeprecationWarning: You are modifying the state of a globally registered colormap. This has been deprecated since 3.3 and in 3.6, you will not be able to modify a registered colormap in-place. To remove this warning, you can make a copy of the colormap first. cmap = mpl.cm.get_cmap(\"RdBu\").copy()\n",
      "  cmap.set_bad('k', alpha=1)\n"
     ]
    },
    {
     "data": {
      "text/plain": [
       "<AxesSubplot:>"
      ]
     },
     "execution_count": 38,
     "metadata": {},
     "output_type": "execute_result"
    }
   ],
   "source": [
    "f,ax = plt.subplots()\n",
    "pltlib.iv(vm_inpaint - np.ma.sqrt(vx_masked**2+vy_masked**2),ax=ax,cmap='RdBu',clim=(-2,2))"
   ]
  },
  {
   "cell_type": "code",
   "execution_count": 39,
   "id": "71db82b0-860c-4b1e-8b1a-26288d72fe88",
   "metadata": {},
   "outputs": [
    {
     "name": "stdout",
     "output_type": "stream",
     "text": [
      "Applying gaussian smoothing filter with size 51 and sigma 8.333 (sum 0.996)\n"
     ]
    },
    {
     "name": "stderr",
     "output_type": "stream",
     "text": [
      "WARNING: nan_treatment='interpolate', however, NaN values detected post convolution. A contiguous region of NaN values, larger than the kernel size, are present in the input array. Increase the kernel size to avoid this. [astropy.convolution.convolve]\n",
      "WARNING:astropy:nan_treatment='interpolate', however, NaN values detected post convolution. A contiguous region of NaN values, larger than the kernel size, are present in the input array. Increase the kernel size to avoid this.\n"
     ]
    },
    {
     "name": "stdout",
     "output_type": "stream",
     "text": [
      "Applying gaussian smoothing filter with size 51 and sigma 8.333 (sum 0.996)\n"
     ]
    }
   ],
   "source": [
    "vx_gauss_fill = filtlib.gaussfill(vx_masked,size=51)\n",
    "vy_gauss_fill = filtlib.gaussfill(vy_masked,size=51)"
   ]
  },
  {
   "cell_type": "code",
   "execution_count": 41,
   "id": "7da73013-4afd-48fb-9163-5279c51d5411",
   "metadata": {},
   "outputs": [
    {
     "data": {
      "application/vnd.jupyter.widget-view+json": {
       "model_id": "74985e472b234f9b89c4a65913e5affe",
       "version_major": 2,
       "version_minor": 0
      },
      "text/plain": [
       "Canvas(toolbar=Toolbar(toolitems=[('Home', 'Reset original view', 'home', 'home'), ('Back', 'Back to previous …"
      ]
     },
     "metadata": {},
     "output_type": "display_data"
    },
    {
     "name": "stderr",
     "output_type": "stream",
     "text": [
      "/nobackupp16/swbuild3/sbhusha1/pip_git_sw/imview/imview/lib/pltlib.py:155: MatplotlibDeprecationWarning: You are modifying the state of a globally registered colormap. This has been deprecated since 3.3 and in 3.6, you will not be able to modify a registered colormap in-place. To remove this warning, you can make a copy of the colormap first. cmap = mpl.cm.get_cmap(\"RdYlBu_r\").copy()\n",
      "  cmap.set_bad('k', alpha=1)\n"
     ]
    },
    {
     "data": {
      "text/plain": [
       "(3121935.022988668, 3126166.6051699277)"
      ]
     },
     "execution_count": 41,
     "metadata": {},
     "output_type": "execute_result"
    }
   ],
   "source": [
    "f,ax = plt.subplots()\n",
    "vm_gauss = np.ma.sqrt(vx_gauss_fill**2+vy_gauss_fill**2)\n",
    "pltlib.iv(vm_gauss,ax=ax,cmap='RdYlBu_r',clim=(0,6),extent=fig_extent)\n",
    "error_shp.plot(ax=ax,facecolor='none',edgecolor='white',linewidth=2)\n",
    "xlim = (356814.64580645156, 359450.71339477727)\n",
    "ylim = (3121935.022988668, 3126166.6051699277)\n",
    "ax.set_xlim(xlim)\n",
    "ax.set_ylim(ylim)"
   ]
  },
  {
   "cell_type": "code",
   "execution_count": 42,
   "id": "7378c92e-727b-4178-87f2-0f8530dbb7a6",
   "metadata": {},
   "outputs": [],
   "source": [
    "vx_out = os.path.splitext(vx_orig_fn)[0]+'_masked_gauss_fill51px.tif'\n",
    "vy_out = os.path.splitext(vy_orig_fn)[0]+'_masked_gauss_fill51px.tif'\n",
    "iolib.writeGTiff(vx_gauss_fill,vx_out,src_ds=vx_ds)\n",
    "iolib.writeGTiff(vy_gauss_fill,vy_out,src_ds=vy_ds)"
   ]
  },
  {
   "cell_type": "code",
   "execution_count": null,
   "id": "5668b232-8d59-43a9-9804-8160a09183d4",
   "metadata": {},
   "outputs": [],
   "source": []
  }
 ],
 "metadata": {
  "kernelspec": {
   "display_name": "Python 3 (ipykernel)",
   "language": "python",
   "name": "python3"
  },
  "language_info": {
   "codemirror_mode": {
    "name": "ipython",
    "version": 3
   },
   "file_extension": ".py",
   "mimetype": "text/x-python",
   "name": "python",
   "nbconvert_exporter": "python",
   "pygments_lexer": "ipython3",
   "version": "3.9.16"
  }
 },
 "nbformat": 4,
 "nbformat_minor": 5
}
