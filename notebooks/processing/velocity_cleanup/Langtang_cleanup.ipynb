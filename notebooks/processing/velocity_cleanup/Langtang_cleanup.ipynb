{
 "cells": [
  {
   "cell_type": "code",
   "execution_count": 1,
   "id": "db5991e2-bf79-4bcb-8cef-a14229039a38",
   "metadata": {},
   "outputs": [],
   "source": [
    "%load_ext autoreload\n",
    "%autoreload 2\n",
    "%config InlineBackend.figure_format='retina'\n",
    "%matplotlib inline"
   ]
  },
  {
   "cell_type": "code",
   "execution_count": 2,
   "id": "f6908362-2bca-4fec-a6bd-02471996b231",
   "metadata": {},
   "outputs": [],
   "source": [
    "import numpy as np \n",
    "import contextily as ctx\n",
    "import geopandas as gpd\n",
    "import matplotlib.pyplot as plt\n",
    "from imview import pltlib\n",
    "import pandas as pd\n",
    "from pygeotools.lib import warplib,geolib,iolib,malib,filtlib,timelib\n",
    "import os,sys,glob,shutil\n",
    "from velocity_proc import glac_dyn, constants, velocity_filter, velocity_timeseries"
   ]
  },
  {
   "cell_type": "code",
   "execution_count": 3,
   "id": "7ede4eb5-f4d5-4e5d-8aaf-c647a6cdda1b",
   "metadata": {},
   "outputs": [
    {
     "name": "stdout",
     "output_type": "stream",
     "text": [
      "/nobackupp11/sbhusha1/chapter2/langtang/20230223\n"
     ]
    }
   ],
   "source": [
    "%cd /nobackup/sbhusha1/chapter2/langtang/20230223/"
   ]
  },
  {
   "cell_type": "code",
   "execution_count": 4,
   "id": "a2cfa2d4-50f4-471d-be91-66fa7fe530fe",
   "metadata": {},
   "outputs": [],
   "source": [
    "vx_fn = '20150222_combined_hs__20160107_combined_hs_mgm_disp_9spm_spm_ker15_corr_kernel9px_resmin_txm/20150222_combined_hs__20160107_combined_hs_mgm_disp_9spm_spm_ker15_corr_kernel9px_resmin_txm_vx_skiprate_1.tif'\n",
    "vy_fn = '20150222_combined_hs__20160107_combined_hs_mgm_disp_9spm_spm_ker15_corr_kernel9px_resmin_txm/20150222_combined_hs__20160107_combined_hs_mgm_disp_9spm_spm_ker15_corr_kernel9px_resmin_txm_vy_skiprate_1.tif'\n",
    "vm_fn = '20150222_combined_hs__20160107_combined_hs_mgm_disp_9spm_spm_ker15_corr_kernel9px_resmin_txm/20150222_combined_hs__20160107_combined_hs_mgm_disp_9spm_spm_ker15_corr_kernel9px_resmin_txm_vm_skiprate_1.tif'\n",
    "vx_ds = iolib.fn_getds(vx_fn)\n",
    "vy_ds = iolib.fn_getds(vy_fn)"
   ]
  },
  {
   "cell_type": "code",
   "execution_count": 5,
   "id": "b77695c6-ea31-4f88-8e12-c06f67e6d750",
   "metadata": {},
   "outputs": [],
   "source": [
    "vx_ma = iolib.ds_getma(vx_ds)\n",
    "vy_ma = iolib.ds_getma(vy_ds)"
   ]
  },
  {
   "cell_type": "code",
   "execution_count": 6,
   "id": "d7b9321b-c4d6-4bca-bb7f-927b22e9b2a7",
   "metadata": {},
   "outputs": [
    {
     "name": "stderr",
     "output_type": "stream",
     "text": [
      "WARNING: IERSStaleWarning: leap-second file is expired. [astropy.utils.iers.iers]\n"
     ]
    },
    {
     "name": "stdout",
     "output_type": "stream",
     "text": [
      "Applying gaussian smoothing filter with size 51 and sigma 8.333 (sum 0.996)\n"
     ]
    },
    {
     "name": "stderr",
     "output_type": "stream",
     "text": [
      "WARNING: nan_treatment='interpolate', however, NaN values detected post convolution. A contiguous region of NaN values, larger than the kernel size, are present in the input array. Increase the kernel size to avoid this. [astropy.convolution.convolve]\n"
     ]
    },
    {
     "name": "stdout",
     "output_type": "stream",
     "text": [
      "Applying gaussian smoothing filter with size 51 and sigma 8.333 (sum 0.996)\n"
     ]
    }
   ],
   "source": [
    "vx_ma_gauss = filtlib.gaussfill(vx_ma,size=51)\n",
    "vy_ma_gauss = filtlib.gaussfill(vy_ma,size=51)"
   ]
  },
  {
   "cell_type": "code",
   "execution_count": 7,
   "id": "21aff1d1-323e-424c-b029-c502f34e95aa",
   "metadata": {},
   "outputs": [],
   "source": [
    "vx_out = os.path.splitext(vx_fn)[0]+'_gauss_fill51px.tif'\n",
    "vy_out = os.path.splitext(vy_fn)[0]+'_gauss_fill51px.tif'\n",
    "iolib.writeGTiff(vx_ma_gauss,vx_out,src_ds=vx_ds)\n",
    "iolib.writeGTiff(vy_ma_gauss,vy_out,src_ds=vy_ds)\n",
    "vm_ma = np.ma.sqrt(vx_ma_gauss**2+vy_ma_gauss**2)\n",
    "vm_out = os.path.splitext(vm_fn)[0]+'_gauss_fill51px.tif'\n",
    "iolib.writeGTiff(vm_ma,vm_out,src_ds=vx_ds)"
   ]
  },
  {
   "cell_type": "code",
   "execution_count": null,
   "id": "4eb3337e-0831-4c15-8865-0d5a540ccf6e",
   "metadata": {},
   "outputs": [],
   "source": []
  }
 ],
 "metadata": {
  "kernelspec": {
   "display_name": "Python 3 (ipykernel)",
   "language": "python",
   "name": "python3"
  },
  "language_info": {
   "codemirror_mode": {
    "name": "ipython",
    "version": 3
   },
   "file_extension": ".py",
   "mimetype": "text/x-python",
   "name": "python",
   "nbconvert_exporter": "python",
   "pygments_lexer": "ipython3",
   "version": "3.9.16"
  }
 },
 "nbformat": 4,
 "nbformat_minor": 5
}
