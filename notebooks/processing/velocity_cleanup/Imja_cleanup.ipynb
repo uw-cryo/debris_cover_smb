{
 "cells": [
  {
   "cell_type": "code",
   "execution_count": 1,
   "id": "46396df8-44ae-4301-8f2b-b41f5fffd30c",
   "metadata": {},
   "outputs": [],
   "source": [
    "%load_ext autoreload\n",
    "%autoreload 2\n",
    "%config InlineBackend.figure_format='retina'\n",
    "%matplotlib inline"
   ]
  },
  {
   "cell_type": "code",
   "execution_count": 2,
   "id": "79cbf746-f39f-4243-a11a-f634b9127fe3",
   "metadata": {},
   "outputs": [],
   "source": [
    "import numpy as np \n",
    "import contextily as ctx\n",
    "import geopandas as gpd\n",
    "import matplotlib.pyplot as plt\n",
    "from imview import pltlib\n",
    "import pandas as pd\n",
    "from pygeotools.lib import warplib,geolib,iolib,malib,filtlib,timelib\n",
    "import os,sys,glob,shutil\n",
    "from velocity_proc import glac_dyn, constants, velocity_filter, velocity_timeseries"
   ]
  },
  {
   "cell_type": "code",
   "execution_count": 3,
   "id": "a89d8b41-3597-465a-acad-17be9a7c0d49",
   "metadata": {},
   "outputs": [
    {
     "name": "stdout",
     "output_type": "stream",
     "text": [
      "/nobackupp11/sbhusha1/chapter2/imja/20230223\n"
     ]
    }
   ],
   "source": [
    "%cd /nobackup/sbhusha1/chapter2/imja/20230223/"
   ]
  },
  {
   "cell_type": "code",
   "execution_count": 4,
   "id": "be2ffcce-7caf-4c48-9441-034c2ef4536b",
   "metadata": {},
   "outputs": [],
   "source": [
    "vx_fn = '20151002_combined_hs_masked__20161029_combined_hs_masked_mgm_disp_9spm_spm_ker15_corr_kernel9px_resmin_txm/20151002_combined_hs_masked__20161029_combined_hs_masked_mgm_disp_9spm_spm_ker15_corr_kernel9px_resmin_txm_vx_skiprate_1.tif'\n",
    "vy_fn = '20151002_combined_hs_masked__20161029_combined_hs_masked_mgm_disp_9spm_spm_ker15_corr_kernel9px_resmin_txm/20151002_combined_hs_masked__20161029_combined_hs_masked_mgm_disp_9spm_spm_ker15_corr_kernel9px_resmin_txm_vy_skiprate_1.tif'\n",
    "vm_fn = '20151002_combined_hs_masked__20161029_combined_hs_masked_mgm_disp_9spm_spm_ker15_corr_kernel9px_resmin_txm/20151002_combined_hs_masked__20161029_combined_hs_masked_mgm_disp_9spm_spm_ker15_corr_kernel9px_resmin_txm_vm_skiprate_1.tif'\n",
    "vx_ds = iolib.fn_getds(vx_fn)\n",
    "vy_ds = iolib.fn_getds(vy_fn)"
   ]
  },
  {
   "cell_type": "code",
   "execution_count": 5,
   "id": "c0abf948-b867-4d5c-9473-6fc3d76aac81",
   "metadata": {},
   "outputs": [],
   "source": [
    "vx_ma = iolib.ds_getma(vx_ds)\n",
    "vy_ma = iolib.ds_getma(vy_ds)"
   ]
  },
  {
   "cell_type": "code",
   "execution_count": 6,
   "id": "1f439c63-d74c-4f19-b3aa-d6ccbe6e4303",
   "metadata": {},
   "outputs": [
    {
     "name": "stderr",
     "output_type": "stream",
     "text": [
      "WARNING: IERSStaleWarning: leap-second file is expired. [astropy.utils.iers.iers]\n"
     ]
    },
    {
     "name": "stdout",
     "output_type": "stream",
     "text": [
      "Applying gaussian smoothing filter with size 51 and sigma 8.333 (sum 0.996)\n"
     ]
    },
    {
     "name": "stderr",
     "output_type": "stream",
     "text": [
      "WARNING: nan_treatment='interpolate', however, NaN values detected post convolution. A contiguous region of NaN values, larger than the kernel size, are present in the input array. Increase the kernel size to avoid this. [astropy.convolution.convolve]\n"
     ]
    },
    {
     "name": "stdout",
     "output_type": "stream",
     "text": [
      "Applying gaussian smoothing filter with size 51 and sigma 8.333 (sum 0.996)\n"
     ]
    }
   ],
   "source": [
    "vx_ma_gauss = filtlib.gaussfill(vx_ma,size=51)\n",
    "vy_ma_gauss = filtlib.gaussfill(vy_ma,size=51)"
   ]
  },
  {
   "cell_type": "code",
   "execution_count": 7,
   "id": "60bf1414-c318-4678-ac7c-99d9b13a321f",
   "metadata": {},
   "outputs": [],
   "source": [
    "vx_out = os.path.splitext(vx_fn)[0]+'_gauss_fill51px.tif'\n",
    "vy_out = os.path.splitext(vy_fn)[0]+'_gauss_fill51px.tif'\n",
    "iolib.writeGTiff(vx_ma_gauss,vx_out,src_ds=vx_ds)\n",
    "iolib.writeGTiff(vy_ma_gauss,vy_out,src_ds=vy_ds)\n",
    "vm_ma = np.ma.sqrt(vx_ma_gauss**2+vy_ma_gauss**2)\n",
    "vm_out = os.path.splitext(vm_fn)[0]+'_gauss_fill51px.tif'\n",
    "iolib.writeGTiff(vm_ma,vm_out,src_ds=vx_ds)"
   ]
  },
  {
   "cell_type": "code",
   "execution_count": null,
   "id": "56b5125c-3294-4dad-ae88-dc05efc591d8",
   "metadata": {},
   "outputs": [],
   "source": []
  }
 ],
 "metadata": {
  "kernelspec": {
   "display_name": "Python 3 (ipykernel)",
   "language": "python",
   "name": "python3"
  },
  "language_info": {
   "codemirror_mode": {
    "name": "ipython",
    "version": 3
   },
   "file_extension": ".py",
   "mimetype": "text/x-python",
   "name": "python",
   "nbconvert_exporter": "python",
   "pygments_lexer": "ipython3",
   "version": "3.9.16"
  }
 },
 "nbformat": 4,
 "nbformat_minor": 5
}
