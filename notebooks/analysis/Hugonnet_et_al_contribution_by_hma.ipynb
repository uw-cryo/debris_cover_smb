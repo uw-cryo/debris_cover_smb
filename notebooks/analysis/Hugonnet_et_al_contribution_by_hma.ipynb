{
 "cells": [
  {
   "cell_type": "markdown",
   "id": "7d70613e-94cf-47b4-aebb-ed94dccdf996",
   "metadata": {},
   "source": [
    "## Notebook purpose: Calculate percentage contribution by HMA glaciers to total sea level rise from melting of inland glaciers (Antartica and Greenland excluded) as reported in [Hugonnet et al. 2021](https://www.nature.com/articles/s41586-021-03436-z)\n",
    "The dataset is used from the [supplementary table 2](https://www.nature.com/articles/s41586-021-03436-z/tables/2)."
   ]
  },
  {
   "cell_type": "code",
   "execution_count": 1,
   "id": "1aa2a644-e339-4e82-9e28-49b6b62659f4",
   "metadata": {},
   "outputs": [],
   "source": [
    "import numpy as np"
   ]
  },
  {
   "cell_type": "code",
   "execution_count": 2,
   "id": "03fd8e77-ee78-4783-8301-59262d8bdb70",
   "metadata": {},
   "outputs": [
    {
     "name": "stdout",
     "output_type": "stream",
     "text": [
      "HMA contribution to total sea level rise caused by melting of land ice glaciers is 7.902621722846442%\n"
     ]
    }
   ],
   "source": [
    "total_mass_change_rate = -267 \n",
    "rgi13_rate = -9.6\n",
    "rgi14_rate = -4.6\n",
    "rgi15_rate = -6.9\n",
    "hma_percentage_contribution = ((rgi13_rate + rgi14_rate + rgi15_rate)/total_mass_change_rate)*100\n",
    "print(f\"HMA contribution to total sea level rise caused by melting of land ice glaciers is {hma_percentage_contribution}%\")"
   ]
  },
  {
   "cell_type": "code",
   "execution_count": null,
   "id": "8a2f32f3-ad7d-4c93-b63e-6fae305a3616",
   "metadata": {},
   "outputs": [],
   "source": []
  }
 ],
 "metadata": {
  "kernelspec": {
   "display_name": "Python 3 (ipykernel)",
   "language": "python",
   "name": "python3"
  },
  "language_info": {
   "codemirror_mode": {
    "name": "ipython",
    "version": 3
   },
   "file_extension": ".py",
   "mimetype": "text/x-python",
   "name": "python",
   "nbconvert_exporter": "python",
   "pygments_lexer": "ipython3",
   "version": "3.9.16"
  }
 },
 "nbformat": 4,
 "nbformat_minor": 5
}
