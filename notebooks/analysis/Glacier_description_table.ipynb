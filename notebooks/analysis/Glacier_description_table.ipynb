{
 "cells": [
  {
   "cell_type": "markdown",
   "id": "09547d46-4f44-425e-972c-c7868a320406",
   "metadata": {},
   "source": [
    "## Notebook Purpose\n",
    "This notebook is used to pull out statistics for glacier description in the study site table (Table 1).  \n",
    "\n",
    "#### Last updated: May 23, 2023\n",
    "\n",
    "## TODO:\n",
    "- Update imports when new library has been built up with all updates\n",
    "-Generalise path to data products during revisions, after the data distribution plan is finalized\n"
   ]
  },
  {
   "cell_type": "code",
   "execution_count": 1,
   "id": "4840694b-ea9f-465c-807b-3ab2477fb495",
   "metadata": {},
   "outputs": [],
   "source": [
    "%load_ext autoreload\n",
    "%autoreload 2\n",
    "%config InlineBackend.figure_format='retina'\n",
    "%matplotlib inline"
   ]
  },
  {
   "cell_type": "code",
   "execution_count": 3,
   "id": "a26bc9e8-58ac-49db-9027-e9ce6f58d9a6",
   "metadata": {},
   "outputs": [
    {
     "name": "stderr",
     "output_type": "stream",
     "text": [
      "/swbuild/sbhusha1/miniconda3/envs/bhushanGDAL3/lib/python3.9/site-packages/tqdm/auto.py:21: TqdmWarning: IProgress not found. Please update jupyter and ipywidgets. See https://ipywidgets.readthedocs.io/en/stable/user_install.html\n",
      "  from .autonotebook import tqdm as notebook_tqdm\n"
     ]
    }
   ],
   "source": [
    "import numpy as np \n",
    "import geopandas as gpd\n",
    "import matplotlib.pyplot as plt\n",
    "from imview import pltlib\n",
    "import pandas as pd\n",
    "from pygeotools.lib import warplib,geolib,iolib,malib,filtlib,timelib\n",
    "import os,sys,glob,shutil\n",
    "from velocity_proc import glac_dyn, constants, velocity_filter, velocity_timeseries"
   ]
  },
  {
   "cell_type": "markdown",
   "id": "bd79cdba-06aa-4eea-b0ff-faa33f26a366",
   "metadata": {},
   "source": [
    "## Ngozumpa"
   ]
  },
  {
   "cell_type": "code",
   "execution_count": 4,
   "id": "d168acba-e9e4-481f-8f2f-ed5132da2fbf",
   "metadata": {},
   "outputs": [],
   "source": [
    "glac_name = 'ngozumpa'\n",
    "shp = gpd.read_file(constants.fetch_glac_shp(constants.rgi_dicts[glac_name])).to_crs('EPSG:32645')\n",
    "glac_thick_ds = iolib.fn_getds(constants.fetch_farinotti_thickness(glac_name))\n",
    "res = geolib.get_res(glac_thick_ds)[0]\n",
    "glac_thick = iolib.ds_getma(glac_thick_ds)\n",
    "deb_thick_ds = iolib.fn_getds(constants.fetch_rounce_debris_thickness(glac_name))\n",
    "res_deb = geolib.get_res(deb_thick_ds)[0]\n",
    "deb_thick = iolib.ds_getma(deb_thick_ds)"
   ]
  },
  {
   "cell_type": "code",
   "execution_count": 5,
   "id": "ca1f56bc-ed4a-44d0-9f85-c1b68f72af11",
   "metadata": {},
   "outputs": [
    {
     "data": {
      "text/plain": [
       "0    0.999331\n",
       "dtype: float64"
      ]
     },
     "execution_count": 5,
     "metadata": {},
     "output_type": "execute_result"
    }
   ],
   "source": [
    "shp.area/(glac_thick.count()*res*res)"
   ]
  },
  {
   "cell_type": "code",
   "execution_count": 6,
   "id": "bde2deef-b6ff-4369-8dad-6e1461a21e96",
   "metadata": {},
   "outputs": [
    {
     "data": {
      "text/plain": [
       "61.0475"
      ]
     },
     "execution_count": 6,
     "metadata": {},
     "output_type": "execute_result"
    }
   ],
   "source": [
    "glac_thick.count()*res*res*1e-6"
   ]
  },
  {
   "cell_type": "code",
   "execution_count": 7,
   "id": "c8341d71-15bf-4555-8988-975cdba91943",
   "metadata": {},
   "outputs": [
    {
     "data": {
      "text/plain": [
       "19.088549999999998"
      ]
     },
     "execution_count": 7,
     "metadata": {},
     "output_type": "execute_result"
    }
   ],
   "source": [
    "deb_thick.count()*res_deb*res_deb*1e-6"
   ]
  },
  {
   "cell_type": "code",
   "execution_count": 8,
   "id": "7b214f04-fbd4-4146-8959-c685955e61ea",
   "metadata": {},
   "outputs": [
    {
     "data": {
      "text/plain": [
       "0    31.289294\n",
       "dtype: float64"
      ]
     },
     "execution_count": 8,
     "metadata": {},
     "output_type": "execute_result"
    }
   ],
   "source": [
    "((deb_thick.count()*res_deb*res_deb)/shp.area)*100"
   ]
  },
  {
   "cell_type": "code",
   "execution_count": 9,
   "id": "63aa6397-225a-445a-9bbd-67e2195880f2",
   "metadata": {},
   "outputs": [
    {
     "data": {
      "text/plain": [
       "array([0.02812129, 0.13449664, 0.47741808, 1.78103662, 3.        ])"
      ]
     },
     "execution_count": 9,
     "metadata": {},
     "output_type": "execute_result"
    }
   ],
   "source": [
    "np.nanpercentile(deb_thick.compressed(),(5,16,50,84,95))"
   ]
  },
  {
   "cell_type": "markdown",
   "id": "12e9c77a-b4a7-4300-8a23-068026b4d851",
   "metadata": {},
   "source": [
    "# Khumbu"
   ]
  },
  {
   "cell_type": "code",
   "execution_count": 10,
   "id": "7aa579e5-7637-48e6-86cb-1a9e5a5051bc",
   "metadata": {},
   "outputs": [],
   "source": [
    "glac_name = 'khumbu'\n",
    "shp = gpd.read_file(constants.fetch_glac_shp(constants.rgi_dicts[glac_name])).to_crs('EPSG:32645')\n",
    "glac_thick_ds = iolib.fn_getds(constants.fetch_farinotti_thickness(glac_name))\n",
    "res = geolib.get_res(glac_thick_ds)[0]\n",
    "glac_thick = iolib.ds_getma(glac_thick_ds)\n",
    "deb_thick_ds = iolib.fn_getds(constants.fetch_rounce_debris_thickness(glac_name))\n",
    "res_deb = geolib.get_res(deb_thick_ds)[0]\n",
    "deb_thick = iolib.ds_getma(deb_thick_ds)"
   ]
  },
  {
   "cell_type": "code",
   "execution_count": 11,
   "id": "6480520a-d14b-454d-9b57-1a409ca23b2d",
   "metadata": {},
   "outputs": [
    {
     "data": {
      "text/plain": [
       "19.0825"
      ]
     },
     "execution_count": 11,
     "metadata": {},
     "output_type": "execute_result"
    }
   ],
   "source": [
    "glac_thick.count()*res*res*1e-6"
   ]
  },
  {
   "cell_type": "code",
   "execution_count": 12,
   "id": "44801e12-2341-485c-8b07-51de07c36449",
   "metadata": {},
   "outputs": [
    {
     "data": {
      "text/plain": [
       "0    19.081582\n",
       "dtype: float64"
      ]
     },
     "execution_count": 12,
     "metadata": {},
     "output_type": "execute_result"
    }
   ],
   "source": [
    "shp.area*1e-6"
   ]
  },
  {
   "cell_type": "code",
   "execution_count": 13,
   "id": "732f7a51-f831-4c83-85b9-1a0dc5b72db9",
   "metadata": {},
   "outputs": [
    {
     "data": {
      "text/plain": [
       "7.352694"
      ]
     },
     "execution_count": 13,
     "metadata": {},
     "output_type": "execute_result"
    }
   ],
   "source": [
    "deb_thick.count()*res_deb*res_deb*1e-6"
   ]
  },
  {
   "cell_type": "code",
   "execution_count": 14,
   "id": "5a6b902b-2ed4-4b67-856c-dff9f2645fcb",
   "metadata": {},
   "outputs": [
    {
     "data": {
      "text/plain": [
       "0    38.532937\n",
       "dtype: float64"
      ]
     },
     "execution_count": 14,
     "metadata": {},
     "output_type": "execute_result"
    }
   ],
   "source": [
    "((deb_thick.count()*res_deb*res_deb)/shp.area)*100"
   ]
  },
  {
   "cell_type": "code",
   "execution_count": 15,
   "id": "cf032e07-0bfe-482d-8de8-ad0216a47480",
   "metadata": {},
   "outputs": [
    {
     "data": {
      "text/plain": [
       "array([0.0162879 , 0.06124099, 0.29475071, 1.7283973 , 3.        ])"
      ]
     },
     "execution_count": 15,
     "metadata": {},
     "output_type": "execute_result"
    }
   ],
   "source": [
    "np.nanpercentile(deb_thick.compressed(),(5,16,50,84,95))"
   ]
  },
  {
   "cell_type": "markdown",
   "id": "143bb71a-77a9-4dbd-aeff-3b871d81baf9",
   "metadata": {},
   "source": [
    "# Imja"
   ]
  },
  {
   "cell_type": "code",
   "execution_count": 16,
   "id": "b8de8146-4103-40a3-9b6c-feb05cee98e9",
   "metadata": {},
   "outputs": [],
   "source": [
    "glac_name = 'imja'\n",
    "shp = gpd.read_file(constants.fetch_glac_shp(constants.rgi_dicts[glac_name])).to_crs('EPSG:32645')\n",
    "glac_thick_ds = iolib.fn_getds(constants.fetch_farinotti_thickness(glac_name))\n",
    "res = geolib.get_res(glac_thick_ds)[0]\n",
    "glac_thick = iolib.ds_getma(glac_thick_ds)\n",
    "deb_thick_ds = iolib.fn_getds(constants.fetch_rounce_debris_thickness(glac_name))\n",
    "res_deb = geolib.get_res(deb_thick_ds)[0]\n",
    "deb_thick = iolib.ds_getma(deb_thick_ds)"
   ]
  },
  {
   "cell_type": "code",
   "execution_count": 17,
   "id": "7fc92bbd-1816-4c0e-8372-86de06d35ea2",
   "metadata": {},
   "outputs": [
    {
     "data": {
      "text/plain": [
       "0    14.254544\n",
       "dtype: float64"
      ]
     },
     "execution_count": 17,
     "metadata": {},
     "output_type": "execute_result"
    }
   ],
   "source": [
    "shp.area*1e-6"
   ]
  },
  {
   "cell_type": "code",
   "execution_count": 18,
   "id": "85ec227e-dc89-478e-8260-8d75ec9c3fcb",
   "metadata": {},
   "outputs": [
    {
     "data": {
      "text/plain": [
       "14.259374999999999"
      ]
     },
     "execution_count": 18,
     "metadata": {},
     "output_type": "execute_result"
    }
   ],
   "source": [
    "glac_thick.count()*res*res*1e-6"
   ]
  },
  {
   "cell_type": "code",
   "execution_count": 19,
   "id": "79dcd5eb-7214-4a54-9779-b4a650122eeb",
   "metadata": {},
   "outputs": [
    {
     "data": {
      "text/plain": [
       "0    40.749617\n",
       "dtype: float64"
      ]
     },
     "execution_count": 19,
     "metadata": {},
     "output_type": "execute_result"
    }
   ],
   "source": [
    "((deb_thick.count()*res_deb*res_deb)/shp.area)*100"
   ]
  },
  {
   "cell_type": "code",
   "execution_count": 20,
   "id": "d317db99-fa3d-4810-b68c-ec53856c441f",
   "metadata": {},
   "outputs": [
    {
     "data": {
      "text/plain": [
       "array([0.0326701 , 0.09261377, 0.31181386, 0.53447376, 0.83649198])"
      ]
     },
     "execution_count": 20,
     "metadata": {},
     "output_type": "execute_result"
    }
   ],
   "source": [
    "np.nanpercentile(deb_thick.compressed(),(5,16,50,84,95))"
   ]
  },
  {
   "cell_type": "markdown",
   "id": "d03e8a5a-c9ab-4596-a49b-26d3e258051f",
   "metadata": {},
   "source": [
    "# Langtang"
   ]
  },
  {
   "cell_type": "code",
   "execution_count": 21,
   "id": "65204c69-abdc-4e16-a6b6-4cf66105226b",
   "metadata": {},
   "outputs": [],
   "source": [
    "glac_name = 'langtang'\n",
    "shp = gpd.read_file(constants.fetch_glac_shp(constants.rgi_dicts[glac_name])).to_crs('EPSG:32645')\n",
    "glac_thick_ds = iolib.fn_getds(constants.fetch_farinotti_thickness(glac_name))\n",
    "res = geolib.get_res(glac_thick_ds)[0]\n",
    "glac_thick = iolib.ds_getma(glac_thick_ds)\n",
    "deb_thick_ds = iolib.fn_getds(constants.fetch_rounce_debris_thickness(glac_name))\n",
    "res_deb = geolib.get_res(deb_thick_ds)[0]\n",
    "deb_thick = iolib.ds_getma(deb_thick_ds)"
   ]
  },
  {
   "cell_type": "code",
   "execution_count": 22,
   "id": "f0ec7a80-c75c-4295-a5e2-a6f8e9fcd32a",
   "metadata": {},
   "outputs": [
    {
     "data": {
      "text/plain": [
       "0    37.776506\n",
       "dtype: float64"
      ]
     },
     "execution_count": 22,
     "metadata": {},
     "output_type": "execute_result"
    }
   ],
   "source": [
    "shp.area*1e-6"
   ]
  },
  {
   "cell_type": "code",
   "execution_count": 23,
   "id": "18a00c75-afd7-42b2-b05c-d936b46375fb",
   "metadata": {},
   "outputs": [
    {
     "data": {
      "text/plain": [
       "0    44.748876\n",
       "dtype: float64"
      ]
     },
     "execution_count": 23,
     "metadata": {},
     "output_type": "execute_result"
    }
   ],
   "source": [
    "((deb_thick.count()*res_deb*res_deb)/shp.area)*100"
   ]
  },
  {
   "cell_type": "code",
   "execution_count": 24,
   "id": "7f43dcbb-78c0-44a2-bce4-2596743426ee",
   "metadata": {},
   "outputs": [
    {
     "data": {
      "text/plain": [
       "array([0.04004339, 0.20279822, 0.67204264, 1.49267059, 3.        ])"
      ]
     },
     "execution_count": 24,
     "metadata": {},
     "output_type": "execute_result"
    }
   ],
   "source": [
    "np.nanpercentile(deb_thick.compressed(),(5,16,50,84,95))"
   ]
  },
  {
   "cell_type": "markdown",
   "id": "945e1edc-5f92-4ca2-b066-f8e9d58c50ae",
   "metadata": {},
   "source": [
    "# Lirung"
   ]
  },
  {
   "cell_type": "code",
   "execution_count": 25,
   "id": "28242640-5040-457a-86e3-6ac538d3bc05",
   "metadata": {},
   "outputs": [
    {
     "name": "stdout",
     "output_type": "stream",
     "text": [
      "debris thickness not found, will return extrap product\n"
     ]
    }
   ],
   "source": [
    "glac_name = 'lirung'\n",
    "shp = gpd.read_file(constants.fetch_glac_shp(constants.rgi_dicts[glac_name])).to_crs('EPSG:32645')\n",
    "glac_thick_ds = iolib.fn_getds(constants.fetch_farinotti_thickness(glac_name))\n",
    "res = geolib.get_res(glac_thick_ds)[0]\n",
    "glac_thick = iolib.ds_getma(glac_thick_ds)\n",
    "deb_thick_ds = iolib.fn_getds(constants.fetch_rounce_debris_thickness(glac_name))\n",
    "res_deb = geolib.get_res(deb_thick_ds)[0]\n",
    "deb_thick = iolib.ds_getma(deb_thick_ds)"
   ]
  },
  {
   "cell_type": "code",
   "execution_count": 26,
   "id": "d669ca14-97c6-4d94-b3b0-ab3ec14225ba",
   "metadata": {},
   "outputs": [
    {
     "data": {
      "text/plain": [
       "0    1.459637\n",
       "dtype: float64"
      ]
     },
     "execution_count": 26,
     "metadata": {},
     "output_type": "execute_result"
    }
   ],
   "source": [
    "shp.area*1e-6"
   ]
  },
  {
   "cell_type": "code",
   "execution_count": 27,
   "id": "8d2f7de9-b0b0-4db5-800b-57b1f150ae41",
   "metadata": {},
   "outputs": [
    {
     "data": {
      "text/plain": [
       "1.415232"
      ]
     },
     "execution_count": 27,
     "metadata": {},
     "output_type": "execute_result"
    }
   ],
   "source": [
    "deb_thick.count()*res_deb*res_deb*1e-6"
   ]
  },
  {
   "cell_type": "code",
   "execution_count": null,
   "id": "bcb638ba-c27c-4e63-9f5c-07545a83791a",
   "metadata": {},
   "outputs": [],
   "source": []
  },
  {
   "cell_type": "code",
   "execution_count": 28,
   "id": "445bb91a-179e-4ba2-b784-d34a936ec006",
   "metadata": {},
   "outputs": [
    {
     "data": {
      "text/plain": [
       "97.09996569468268"
      ]
     },
     "execution_count": 28,
     "metadata": {},
     "output_type": "execute_result"
    }
   ],
   "source": [
    "((deb_thick.count()*res_deb*res_deb)/(glac_thick.count()*res*res))*100"
   ]
  },
  {
   "cell_type": "code",
   "execution_count": 29,
   "id": "44b8b4de-9784-4947-9381-493b6e052b36",
   "metadata": {},
   "outputs": [
    {
     "data": {
      "text/plain": [
       "array([0.15286841, 0.21394299, 0.3619173 , 0.53262957, 0.6263999 ])"
      ]
     },
     "execution_count": 29,
     "metadata": {},
     "output_type": "execute_result"
    }
   ],
   "source": [
    "np.nanpercentile(deb_thick.compressed(),(5,16,50,84,95))"
   ]
  },
  {
   "cell_type": "markdown",
   "id": "bb4f5d94-33b7-4c40-88c2-7ab101e875cd",
   "metadata": {},
   "source": [
    "# Changri Nup (Black Changri Nup)"
   ]
  },
  {
   "cell_type": "code",
   "execution_count": 30,
   "id": "ba7a1791-f65c-4dc4-b072-8e358eec4b46",
   "metadata": {},
   "outputs": [],
   "source": [
    "glac_name = 'changri_nup'\n",
    "shp = gpd.read_file(constants.fetch_glac_shp(constants.rgi_dicts[glac_name])).to_crs('EPSG:32645')\n",
    "glac_thick_ds = iolib.fn_getds(constants.fetch_farinotti_thickness(glac_name))\n",
    "res = geolib.get_res(glac_thick_ds)[0]\n",
    "glac_thick = iolib.ds_getma(glac_thick_ds)\n",
    "deb_thick_ds = iolib.fn_getds(constants.fetch_rounce_debris_thickness(glac_name))\n",
    "res_deb = geolib.get_res(deb_thick_ds)[0]\n",
    "deb_thick = iolib.ds_getma(deb_thick_ds)"
   ]
  },
  {
   "cell_type": "code",
   "execution_count": 31,
   "id": "0716abf5-fab3-4d8b-add7-cf7ac246b936",
   "metadata": {},
   "outputs": [
    {
     "name": "stdout",
     "output_type": "stream",
     "text": [
      "\n",
      "Warping all inputs to the following:\n",
      "Resolution: 25.0\n",
      "Extent: [476612.5, 3094162.5, 482987.5, 3099437.5]\n",
      "Projection: '+proj=utm +zone=45 +datum=WGS84 +units=m +no_defs'\n",
      "Resampling alg: cubic\n",
      "\n",
      "1 of 2: /nobackup/sbhusha1/hma/ngozumpa_lagdz/icethickness/RGI60-15/RGI60-15.03734_thickness.tif\n",
      "2 of 2: /nobackupp11/sbhusha1/hma/lagdz_samples/debris_thickness/HMA_DTE_15.03734_hdts_m.tif\n",
      "nl: 211 ns: 255 res: 25.000\n",
      "0...10...20...30...40...50...60...70...80...90..."
     ]
    }
   ],
   "source": [
    "ds_list = warplib.memwarp_multi([glac_thick_ds,deb_thick_ds])\n",
    "res,res_deb = geolib.get_res(ds_list[0])\n",
    "glac_thick,deb_thick = [iolib.ds_getma(ds) for ds in ds_list]\n"
   ]
  },
  {
   "cell_type": "code",
   "execution_count": 32,
   "id": "264d3f15-7feb-40c5-825b-c412ede769a8",
   "metadata": {},
   "outputs": [],
   "source": [
    "glac_shp = gpd.read_file('/nobackup/sbhusha1/hma/agu22_scratch/Black_changri_with_accumulation_area2.shp')\n",
    "glac_thick_ma = velocity_timeseries.mask_by_shp(glac_shp.geometry,glac_thick,ds_list[0])\n",
    "deb_thick_ma = velocity_timeseries.mask_by_shp(glac_shp.geometry,deb_thick,ds_list[1])"
   ]
  },
  {
   "cell_type": "code",
   "execution_count": 33,
   "id": "1815ad2d-357e-46f0-a1d4-4a801a1f8b55",
   "metadata": {},
   "outputs": [
    {
     "data": {
      "text/plain": [
       "1.26125"
      ]
     },
     "execution_count": 33,
     "metadata": {},
     "output_type": "execute_result"
    }
   ],
   "source": [
    "deb_thick_ma.count()*res_deb*res_deb*1e-6"
   ]
  },
  {
   "cell_type": "code",
   "execution_count": 34,
   "id": "52046d43-d02f-4016-aef2-1bbfc9dd3957",
   "metadata": {},
   "outputs": [
    {
     "data": {
      "text/plain": [
       "25.0"
      ]
     },
     "execution_count": 34,
     "metadata": {},
     "output_type": "execute_result"
    }
   ],
   "source": [
    "res_deb"
   ]
  },
  {
   "cell_type": "code",
   "execution_count": 35,
   "id": "42333a6a-4817-459a-9891-c81642a10703",
   "metadata": {},
   "outputs": [
    {
     "data": {
      "text/plain": [
       "25.0"
      ]
     },
     "execution_count": 35,
     "metadata": {},
     "output_type": "execute_result"
    }
   ],
   "source": [
    "res"
   ]
  },
  {
   "cell_type": "code",
   "execution_count": 36,
   "id": "d0a4a867-de6e-4fbf-9d5c-1389b704f7e1",
   "metadata": {},
   "outputs": [
    {
     "data": {
      "text/plain": [
       "53.358011634056055"
      ]
     },
     "execution_count": 36,
     "metadata": {},
     "output_type": "execute_result"
    }
   ],
   "source": [
    "((deb_thick_ma.count()*res_deb*res_deb)/(glac_thick_ma.count()*res*res))*100"
   ]
  },
  {
   "cell_type": "code",
   "execution_count": 37,
   "id": "438e5753-cc94-44ef-a03b-c0ed22f612d1",
   "metadata": {},
   "outputs": [
    {
     "data": {
      "text/plain": [
       "array([0.09340205, 0.29517524, 0.92171839, 3.        , 3.        ])"
      ]
     },
     "execution_count": 37,
     "metadata": {},
     "output_type": "execute_result"
    }
   ],
   "source": [
    "np.nanpercentile(deb_thick.compressed(),(5,16,50,84,95))"
   ]
  },
  {
   "cell_type": "code",
   "execution_count": 38,
   "id": "b555c1bb-ed16-47c9-951d-265e5909a8aa",
   "metadata": {},
   "outputs": [
    {
     "data": {
      "text/plain": [
       "{'count': 11724,\n",
       " 'min': 0.0032886057160794735,\n",
       " 'max': 3.1680309772491455,\n",
       " 'ptp': 3.1647424697875977,\n",
       " 'mean': 1.343993825297558,\n",
       " 'std': 1.081438807939735,\n",
       " 'nmad': 0.9556243604063988,\n",
       " 'med': 0.9217183887958527,\n",
       " 'median': 0.9217183887958527,\n",
       " 'p16': 0.295175244808197,\n",
       " 'p84': 3.0,\n",
       " 'spread': 1.3524123775959014,\n",
       " 'mode': 3.0}"
      ]
     },
     "execution_count": 38,
     "metadata": {},
     "output_type": "execute_result"
    }
   ],
   "source": [
    "malib.get_stats_dict(deb_thick.compressed())"
   ]
  },
  {
   "cell_type": "code",
   "execution_count": null,
   "id": "bcc190c4-6180-4045-93ca-559d343f6245",
   "metadata": {},
   "outputs": [],
   "source": []
  },
  {
   "cell_type": "code",
   "execution_count": null,
   "id": "655d0d0e-6015-4ac9-a819-548c75f8c830",
   "metadata": {},
   "outputs": [],
   "source": []
  },
  {
   "cell_type": "code",
   "execution_count": null,
   "id": "46579b13-1ad0-4b86-9092-6472c80fbdab",
   "metadata": {},
   "outputs": [],
   "source": []
  }
 ],
 "metadata": {
  "kernelspec": {
   "display_name": "Python 3 (ipykernel)",
   "language": "python",
   "name": "python3"
  },
  "language_info": {
   "codemirror_mode": {
    "name": "ipython",
    "version": 3
   },
   "file_extension": ".py",
   "mimetype": "text/x-python",
   "name": "python",
   "nbconvert_exporter": "python",
   "pygments_lexer": "ipython3",
   "version": "3.9.16"
  }
 },
 "nbformat": 4,
 "nbformat_minor": 5
}
